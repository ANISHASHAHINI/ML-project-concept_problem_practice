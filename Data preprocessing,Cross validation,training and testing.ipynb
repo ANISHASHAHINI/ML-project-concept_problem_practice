{
 "cells": [
  {
   "cell_type": "code",
   "execution_count": 2,
   "id": "662e2c85",
   "metadata": {},
   "outputs": [],
   "source": [
    "import pandas as pd\n",
    "import numpy as np\n",
    "import matplotlib.pyplot as plot"
   ]
  },
  {
   "cell_type": "code",
   "execution_count": 9,
   "id": "af9d55e0",
   "metadata": {},
   "outputs": [
    {
     "data": {
      "text/html": [
       "<div>\n",
       "<style scoped>\n",
       "    .dataframe tbody tr th:only-of-type {\n",
       "        vertical-align: middle;\n",
       "    }\n",
       "\n",
       "    .dataframe tbody tr th {\n",
       "        vertical-align: top;\n",
       "    }\n",
       "\n",
       "    .dataframe thead th {\n",
       "        text-align: right;\n",
       "    }\n",
       "</style>\n",
       "<table border=\"1\" class=\"dataframe\">\n",
       "  <thead>\n",
       "    <tr style=\"text-align: right;\">\n",
       "      <th></th>\n",
       "      <th>prod</th>\n",
       "      <th>city</th>\n",
       "      <th>Availabllity</th>\n",
       "    </tr>\n",
       "  </thead>\n",
       "  <tbody>\n",
       "    <tr>\n",
       "      <th>0</th>\n",
       "      <td>A</td>\n",
       "      <td>Delhi</td>\n",
       "      <td>Y</td>\n",
       "    </tr>\n",
       "    <tr>\n",
       "      <th>1</th>\n",
       "      <td>B</td>\n",
       "      <td>Noida</td>\n",
       "      <td>Y</td>\n",
       "    </tr>\n",
       "    <tr>\n",
       "      <th>2</th>\n",
       "      <td>C</td>\n",
       "      <td>pune</td>\n",
       "      <td>Y</td>\n",
       "    </tr>\n",
       "    <tr>\n",
       "      <th>3</th>\n",
       "      <td>D</td>\n",
       "      <td>Delhi</td>\n",
       "      <td>Y</td>\n",
       "    </tr>\n",
       "    <tr>\n",
       "      <th>4</th>\n",
       "      <td>B</td>\n",
       "      <td>Mumbai</td>\n",
       "      <td>N</td>\n",
       "    </tr>\n",
       "    <tr>\n",
       "      <th>5</th>\n",
       "      <td>C</td>\n",
       "      <td>Noida</td>\n",
       "      <td>Y</td>\n",
       "    </tr>\n",
       "    <tr>\n",
       "      <th>6</th>\n",
       "      <td>A</td>\n",
       "      <td>Mumbai</td>\n",
       "      <td>N</td>\n",
       "    </tr>\n",
       "    <tr>\n",
       "      <th>7</th>\n",
       "      <td>D</td>\n",
       "      <td>Delhi</td>\n",
       "      <td>Y</td>\n",
       "    </tr>\n",
       "    <tr>\n",
       "      <th>8</th>\n",
       "      <td>B</td>\n",
       "      <td>Delhi</td>\n",
       "      <td>Y</td>\n",
       "    </tr>\n",
       "    <tr>\n",
       "      <th>9</th>\n",
       "      <td>D</td>\n",
       "      <td>Noida</td>\n",
       "      <td>N</td>\n",
       "    </tr>\n",
       "    <tr>\n",
       "      <th>10</th>\n",
       "      <td>C</td>\n",
       "      <td>Pune</td>\n",
       "      <td>N</td>\n",
       "    </tr>\n",
       "  </tbody>\n",
       "</table>\n",
       "</div>"
      ],
      "text/plain": [
       "   prod    city Availabllity\n",
       "0     A   Delhi            Y\n",
       "1     B   Noida            Y\n",
       "2     C    pune            Y\n",
       "3     D   Delhi            Y\n",
       "4     B  Mumbai            N\n",
       "5     C   Noida            Y\n",
       "6     A  Mumbai            N\n",
       "7     D   Delhi            Y\n",
       "8     B   Delhi            Y\n",
       "9     D   Noida            N\n",
       "10    C    Pune            N"
      ]
     },
     "execution_count": 9,
     "metadata": {},
     "output_type": "execute_result"
    }
   ],
   "source": [
    "data = {'prod':['A','B','C','D','B','C','A','D','B','D','C'],\n",
    "        'city':['Delhi','Noida','pune','Delhi','Mumbai','Noida',\n",
    "                'Mumbai','Delhi','Delhi','Noida','Pune'],\n",
    "        'Availabllity':np.random.choice(['Y','N'],11)}\n",
    "df = pd.DataFrame(data)\n",
    "df"
   ]
  },
  {
   "cell_type": "code",
   "execution_count": 10,
   "id": "b97a75a9",
   "metadata": {},
   "outputs": [
    {
     "data": {
      "text/plain": [
       "prod            object\n",
       "city            object\n",
       "Availabllity    object\n",
       "dtype: object"
      ]
     },
     "execution_count": 10,
     "metadata": {},
     "output_type": "execute_result"
    }
   ],
   "source": [
    "df.dtypes\n"
   ]
  },
  {
   "cell_type": "code",
   "execution_count": 18,
   "id": "fc8f7aeb",
   "metadata": {},
   "outputs": [
    {
     "data": {
      "text/plain": [
       "Series([], Name: Availabllity, dtype: int64)"
      ]
     },
     "execution_count": 18,
     "metadata": {},
     "output_type": "execute_result"
    }
   ],
   "source": [
    "#all are in object -ml dont take object\n",
    "#find and replace\n",
    "#map ,replace or np.where\n",
    "#changing data type to integer\n",
    "df['Availabllity'].value_counts()\n"
   ]
  },
  {
   "cell_type": "code",
   "execution_count": 19,
   "id": "ea485ad9",
   "metadata": {},
   "outputs": [
    {
     "data": {
      "text/plain": [
       "Series([], Name: Availabllity, dtype: int64)"
      ]
     },
     "execution_count": 19,
     "metadata": {},
     "output_type": "execute_result"
    }
   ],
   "source": [
    "df['Availabllity'] = df['Availabllity'].replace({'Y':1,'N':0})\n",
    "#df['Availabllity'] = df['Availabllity'].map({'Y ':1,'N':0})\n",
    "df['Availabllity'].value_counts()"
   ]
  },
  {
   "cell_type": "code",
   "execution_count": 20,
   "id": "cae2d86a",
   "metadata": {},
   "outputs": [
    {
     "data": {
      "text/plain": [
       "prod             object\n",
       "city             object\n",
       "Availabllity    float64\n",
       "dtype: object"
      ]
     },
     "execution_count": 20,
     "metadata": {},
     "output_type": "execute_result"
    }
   ],
   "source": [
    "df.dtypes"
   ]
  },
  {
   "cell_type": "code",
   "execution_count": 21,
   "id": "0bdb9ac4",
   "metadata": {},
   "outputs": [],
   "source": [
    "#2)label encoder\n",
    "\n",
    "from sklearn.preprocessing import LabelEncoder\n"
   ]
  },
  {
   "cell_type": "code",
   "execution_count": 22,
   "id": "27ab86e3",
   "metadata": {},
   "outputs": [
    {
     "data": {
      "text/plain": [
       "Delhi     4\n",
       "Noida     3\n",
       "Mumbai    2\n",
       "pune      1\n",
       "Pune      1\n",
       "Name: city, dtype: int64"
      ]
     },
     "execution_count": 22,
     "metadata": {},
     "output_type": "execute_result"
    }
   ],
   "source": [
    "df['city'].value_counts()"
   ]
  },
  {
   "cell_type": "code",
   "execution_count": 23,
   "id": "4ad5f601",
   "metadata": {},
   "outputs": [
    {
     "data": {
      "text/plain": [
       "0    4\n",
       "2    3\n",
       "1    2\n",
       "4    1\n",
       "3    1\n",
       "Name: city, dtype: int64"
      ]
     },
     "execution_count": 23,
     "metadata": {},
     "output_type": "execute_result"
    }
   ],
   "source": [
    "lb = LabelEncoder()  #object of labelencoder\n",
    "df['city'] = lb.fit_transform(df['city'])\n",
    "df['city'].value_counts()"
   ]
  },
  {
   "cell_type": "code",
   "execution_count": 24,
   "id": "b9232c8f",
   "metadata": {},
   "outputs": [
    {
     "data": {
      "text/plain": [
       "prod             object\n",
       "city              int32\n",
       "Availabllity    float64\n",
       "dtype: object"
      ]
     },
     "execution_count": 24,
     "metadata": {},
     "output_type": "execute_result"
    }
   ],
   "source": [
    " df.dtypes"
   ]
  },
  {
   "cell_type": "code",
   "execution_count": 25,
   "id": "f978ff98",
   "metadata": {},
   "outputs": [
    {
     "data": {
      "text/plain": [
       "B    3\n",
       "C    3\n",
       "D    3\n",
       "A    2\n",
       "Name: prod, dtype: int64"
      ]
     },
     "execution_count": 25,
     "metadata": {},
     "output_type": "execute_result"
    }
   ],
   "source": [
    "df['prod'].value_counts()"
   ]
  },
  {
   "cell_type": "code",
   "execution_count": 26,
   "id": "a0f18a65",
   "metadata": {},
   "outputs": [
    {
     "data": {
      "text/html": [
       "<div>\n",
       "<style scoped>\n",
       "    .dataframe tbody tr th:only-of-type {\n",
       "        vertical-align: middle;\n",
       "    }\n",
       "\n",
       "    .dataframe tbody tr th {\n",
       "        vertical-align: top;\n",
       "    }\n",
       "\n",
       "    .dataframe thead th {\n",
       "        text-align: right;\n",
       "    }\n",
       "</style>\n",
       "<table border=\"1\" class=\"dataframe\">\n",
       "  <thead>\n",
       "    <tr style=\"text-align: right;\">\n",
       "      <th></th>\n",
       "      <th>prod</th>\n",
       "      <th>city</th>\n",
       "      <th>Availabllity</th>\n",
       "    </tr>\n",
       "  </thead>\n",
       "  <tbody>\n",
       "    <tr>\n",
       "      <th>0</th>\n",
       "      <td>A</td>\n",
       "      <td>0</td>\n",
       "      <td>NaN</td>\n",
       "    </tr>\n",
       "    <tr>\n",
       "      <th>1</th>\n",
       "      <td>B</td>\n",
       "      <td>2</td>\n",
       "      <td>NaN</td>\n",
       "    </tr>\n",
       "    <tr>\n",
       "      <th>2</th>\n",
       "      <td>C</td>\n",
       "      <td>4</td>\n",
       "      <td>NaN</td>\n",
       "    </tr>\n",
       "    <tr>\n",
       "      <th>3</th>\n",
       "      <td>D</td>\n",
       "      <td>0</td>\n",
       "      <td>NaN</td>\n",
       "    </tr>\n",
       "    <tr>\n",
       "      <th>4</th>\n",
       "      <td>B</td>\n",
       "      <td>1</td>\n",
       "      <td>NaN</td>\n",
       "    </tr>\n",
       "  </tbody>\n",
       "</table>\n",
       "</div>"
      ],
      "text/plain": [
       "  prod  city  Availabllity\n",
       "0    A     0           NaN\n",
       "1    B     2           NaN\n",
       "2    C     4           NaN\n",
       "3    D     0           NaN\n",
       "4    B     1           NaN"
      ]
     },
     "execution_count": 26,
     "metadata": {},
     "output_type": "execute_result"
    }
   ],
   "source": [
    "df.head()"
   ]
  },
  {
   "cell_type": "code",
   "execution_count": 27,
   "id": "3c2f253a",
   "metadata": {},
   "outputs": [
    {
     "data": {
      "text/html": [
       "<div>\n",
       "<style scoped>\n",
       "    .dataframe tbody tr th:only-of-type {\n",
       "        vertical-align: middle;\n",
       "    }\n",
       "\n",
       "    .dataframe tbody tr th {\n",
       "        vertical-align: top;\n",
       "    }\n",
       "\n",
       "    .dataframe thead th {\n",
       "        text-align: right;\n",
       "    }\n",
       "</style>\n",
       "<table border=\"1\" class=\"dataframe\">\n",
       "  <thead>\n",
       "    <tr style=\"text-align: right;\">\n",
       "      <th></th>\n",
       "      <th>city</th>\n",
       "      <th>Availabllity</th>\n",
       "      <th>prod_A</th>\n",
       "      <th>prod_B</th>\n",
       "      <th>prod_C</th>\n",
       "      <th>prod_D</th>\n",
       "    </tr>\n",
       "  </thead>\n",
       "  <tbody>\n",
       "    <tr>\n",
       "      <th>0</th>\n",
       "      <td>0</td>\n",
       "      <td>NaN</td>\n",
       "      <td>1</td>\n",
       "      <td>0</td>\n",
       "      <td>0</td>\n",
       "      <td>0</td>\n",
       "    </tr>\n",
       "    <tr>\n",
       "      <th>1</th>\n",
       "      <td>2</td>\n",
       "      <td>NaN</td>\n",
       "      <td>0</td>\n",
       "      <td>1</td>\n",
       "      <td>0</td>\n",
       "      <td>0</td>\n",
       "    </tr>\n",
       "    <tr>\n",
       "      <th>2</th>\n",
       "      <td>4</td>\n",
       "      <td>NaN</td>\n",
       "      <td>0</td>\n",
       "      <td>0</td>\n",
       "      <td>1</td>\n",
       "      <td>0</td>\n",
       "    </tr>\n",
       "    <tr>\n",
       "      <th>3</th>\n",
       "      <td>0</td>\n",
       "      <td>NaN</td>\n",
       "      <td>0</td>\n",
       "      <td>0</td>\n",
       "      <td>0</td>\n",
       "      <td>1</td>\n",
       "    </tr>\n",
       "    <tr>\n",
       "      <th>4</th>\n",
       "      <td>1</td>\n",
       "      <td>NaN</td>\n",
       "      <td>0</td>\n",
       "      <td>1</td>\n",
       "      <td>0</td>\n",
       "      <td>0</td>\n",
       "    </tr>\n",
       "  </tbody>\n",
       "</table>\n",
       "</div>"
      ],
      "text/plain": [
       "   city  Availabllity  prod_A  prod_B  prod_C  prod_D\n",
       "0     0           NaN       1       0       0       0\n",
       "1     2           NaN       0       1       0       0\n",
       "2     4           NaN       0       0       1       0\n",
       "3     0           NaN       0       0       0       1\n",
       "4     1           NaN       0       1       0       0"
      ]
     },
     "execution_count": 27,
     "metadata": {},
     "output_type": "execute_result"
    }
   ],
   "source": [
    "#get dummies\n",
    "dfd = pd.get_dummies(data=df,columns=['prod'])\n",
    "dfd.head()"
   ]
  },
  {
   "cell_type": "code",
   "execution_count": 28,
   "id": "cc579345",
   "metadata": {},
   "outputs": [],
   "source": [
    "###Scaling\n"
   ]
  },
  {
   "cell_type": "code",
   "execution_count": 30,
   "id": "ed5df35f",
   "metadata": {},
   "outputs": [
    {
     "data": {
      "text/html": [
       "<div>\n",
       "<style scoped>\n",
       "    .dataframe tbody tr th:only-of-type {\n",
       "        vertical-align: middle;\n",
       "    }\n",
       "\n",
       "    .dataframe tbody tr th {\n",
       "        vertical-align: top;\n",
       "    }\n",
       "\n",
       "    .dataframe thead th {\n",
       "        text-align: right;\n",
       "    }\n",
       "</style>\n",
       "<table border=\"1\" class=\"dataframe\">\n",
       "  <thead>\n",
       "    <tr style=\"text-align: right;\">\n",
       "      <th></th>\n",
       "      <th>Age</th>\n",
       "      <th>Income</th>\n",
       "    </tr>\n",
       "  </thead>\n",
       "  <tbody>\n",
       "    <tr>\n",
       "      <th>0</th>\n",
       "      <td>24</td>\n",
       "      <td>20000</td>\n",
       "    </tr>\n",
       "    <tr>\n",
       "      <th>1</th>\n",
       "      <td>29</td>\n",
       "      <td>34000</td>\n",
       "    </tr>\n",
       "    <tr>\n",
       "      <th>2</th>\n",
       "      <td>40</td>\n",
       "      <td>47000</td>\n",
       "    </tr>\n",
       "    <tr>\n",
       "      <th>3</th>\n",
       "      <td>48</td>\n",
       "      <td>55000</td>\n",
       "    </tr>\n",
       "    <tr>\n",
       "      <th>4</th>\n",
       "      <td>43</td>\n",
       "      <td>65000</td>\n",
       "    </tr>\n",
       "    <tr>\n",
       "      <th>5</th>\n",
       "      <td>54</td>\n",
       "      <td>90000</td>\n",
       "    </tr>\n",
       "    <tr>\n",
       "      <th>6</th>\n",
       "      <td>53</td>\n",
       "      <td>170000</td>\n",
       "    </tr>\n",
       "  </tbody>\n",
       "</table>\n",
       "</div>"
      ],
      "text/plain": [
       "   Age  Income\n",
       "0   24   20000\n",
       "1   29   34000\n",
       "2   40   47000\n",
       "3   48   55000\n",
       "4   43   65000\n",
       "5   54   90000\n",
       "6   53  170000"
      ]
     },
     "execution_count": 30,
     "metadata": {},
     "output_type": "execute_result"
    }
   ],
   "source": [
    "data = {'Age':[24,29,40,48,43,54,53],\n",
    "       'Income':[20000,34000,47000,55000,65000,90000,170000]}\n",
    "df1 = pd.DataFrame(data)\n",
    "df1"
   ]
  },
  {
   "cell_type": "code",
   "execution_count": 31,
   "id": "6250f207",
   "metadata": {},
   "outputs": [],
   "source": [
    "from sklearn.preprocessing import StandardScaler"
   ]
  },
  {
   "cell_type": "code",
   "execution_count": 33,
   "id": "0b3b2775",
   "metadata": {},
   "outputs": [
    {
     "name": "stdout",
     "output_type": "stream",
     "text": [
      "[[-1.64600976 -1.05363406]\n",
      " [-1.177633   -0.75083014]\n",
      " [-0.14720413 -0.46965507]\n",
      " [ 0.60219869 -0.29662425]\n",
      " [ 0.13382193 -0.08033573]\n",
      " [ 1.16425081  0.46038556]\n",
      " [ 1.07057546  2.19069369]]\n"
     ]
    }
   ],
   "source": [
    "sc = StandardScaler()#objesct of standard scaler\n",
    "df_sc = sc.fit_transform(df1)\n",
    "print(df_sc)#scalled data"
   ]
  },
  {
   "cell_type": "code",
   "execution_count": 36,
   "id": "0682945a",
   "metadata": {},
   "outputs": [
    {
     "name": "stdout",
     "output_type": "stream",
     "text": [
      "-0.7508301370835625\n"
     ]
    }
   ],
   "source": [
    "sc_34000 = (34000 - df1['Income'].mean())/df1['Income'].std(ddof = 0)\n",
    "print(sc_34000)"
   ]
  },
  {
   "cell_type": "code",
   "execution_count": 39,
   "id": "ae887863",
   "metadata": {},
   "outputs": [],
   "source": [
    "#cross validation\n",
    "from sklearn.model_selection import cross_val_score,KFold"
   ]
  },
  {
   "cell_type": "code",
   "execution_count": 40,
   "id": "77786fad",
   "metadata": {},
   "outputs": [
    {
     "name": "stdout",
     "output_type": "stream",
     "text": [
      "Train ['c' 'd' 'e' 'f' 'g' 'h' 'i' 'j'] Test ['a' 'b']\n",
      "Train ['a' 'b' 'e' 'f' 'g' 'h' 'i' 'j'] Test ['c' 'd']\n",
      "Train ['a' 'b' 'c' 'd' 'g' 'h' 'i' 'j'] Test ['e' 'f']\n",
      "Train ['a' 'b' 'c' 'd' 'e' 'f' 'i' 'j'] Test ['g' 'h']\n",
      "Train ['a' 'b' 'c' 'd' 'e' 'f' 'g' 'h'] Test ['i' 'j']\n"
     ]
    }
   ],
   "source": [
    "x=np.array(['a','b','c','d','e','f','g','h','i','j'])\n",
    "kf = KFold(n_splits=5)\n",
    "\n",
    "for train,test in kf.split(x):\n",
    "    print('Train',x[train],'Test',x[test])\n"
   ]
  },
  {
   "cell_type": "code",
   "execution_count": 41,
   "id": "33eebc2e",
   "metadata": {},
   "outputs": [
    {
     "name": "stdout",
     "output_type": "stream",
     "text": [
      "Train ['c' 'd' 'e' 'f' 'g' 'h' 'i' 'j'] Test ['a' 'b']\n",
      "Train ['a' 'b' 'e' 'f' 'g' 'h' 'i' 'j'] Test ['c' 'd']\n",
      "Train ['a' 'b' 'c' 'd' 'g' 'h' 'i' 'j'] Test ['e' 'f']\n",
      "Train ['a' 'b' 'c' 'd' 'e' 'f' 'h' 'i' 'j'] Test ['g']\n",
      "Train ['a' 'b' 'c' 'd' 'e' 'f' 'g' 'i' 'j'] Test ['h']\n",
      "Train ['a' 'b' 'c' 'd' 'e' 'f' 'g' 'h' 'j'] Test ['i']\n",
      "Train ['a' 'b' 'c' 'd' 'e' 'f' 'g' 'h' 'i'] Test ['j']\n"
     ]
    }
   ],
   "source": [
    "x=np.array(['a','b','c','d','e','f','g','h','i','j'])\n",
    "kf = KFold(n_splits=7)\n",
    "\n",
    "for train,test in kf.split(x):\n",
    "    print('Train',x[train],'Test',x[test])"
   ]
  },
  {
   "cell_type": "code",
   "execution_count": null,
   "id": "bad90040",
   "metadata": {},
   "outputs": [],
   "source": []
  }
 ],
 "metadata": {
  "kernelspec": {
   "display_name": "Python 3 (ipykernel)",
   "language": "python",
   "name": "python3"
  },
  "language_info": {
   "codemirror_mode": {
    "name": "ipython",
    "version": 3
   },
   "file_extension": ".py",
   "mimetype": "text/x-python",
   "name": "python",
   "nbconvert_exporter": "python",
   "pygments_lexer": "ipython3",
   "version": "3.9.12"
  }
 },
 "nbformat": 4,
 "nbformat_minor": 5
}
